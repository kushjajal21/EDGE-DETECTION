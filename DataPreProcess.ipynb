{
 "cells": [
  {
   "cell_type": "code",
   "execution_count": 154,
   "metadata": {},
   "outputs": [],
   "source": [
    "import numpy as np\n",
    "import cv2\n",
    "import scipy.io\n",
    "import h5py \n",
    "import os\n",
    "from sklearn.utils import shuffle"
   ]
  },
  {
   "cell_type": "code",
   "execution_count": 55,
   "metadata": {},
   "outputs": [],
   "source": [
    "def getpatch(x,i,j):\n",
    "    return x[i-10:i+11,j-10:j+11]"
   ]
  },
  {
   "cell_type": "code",
   "execution_count": 95,
   "metadata": {},
   "outputs": [
    {
     "name": "stdout",
     "output_type": "stream",
     "text": [
      "(array([ 33, 105, 165, 180, 228, 232, 233, 262, 313, 319, 320, 327, 328],\n",
      "      dtype=int64), array([108, 420, 436,  46, 149,  25,  25, 314, 310, 164, 329, 263, 263],\n",
      "      dtype=int64), array([0, 0, 0, 0, 0, 0, 0, 0, 0, 0, 0, 0, 0], dtype=int64))\n"
     ]
    }
   ],
   "source": [
    "im = cv2.imread('C:\\\\Users\\\\ADMIN\\\\Desktop\\\\AmishMegh\\\\EdgeDetection\\\\BSR\\\\BSDS500\\\\data\\\\images\\\\train\\\\12003.jpg')\n",
    "\n",
    "newim = cv2.copyMakeBorder(im,10,10,10,10,cv2.BORDER_CONSTANT,value=[255,255,255])\n",
    "\n",
    "\n",
    "total = 1012224\n",
    "ones = 506113\n",
    "zeros = total - ones"
   ]
  },
  {
   "cell_type": "code",
   "execution_count": 100,
   "metadata": {},
   "outputs": [
    {
     "name": "stdout",
     "output_type": "stream",
     "text": [
      "(array([0, 1], dtype=uint8), array([152562,   1839], dtype=int64))\n",
      "[  0   0   0 ... 318 319 320] [ 70 123 124 ... 414 415 416]\n"
     ]
    }
   ],
   "source": [
    "mat = scipy.io.loadmat('C:\\\\Users\\\\ADMIN\\\\Desktop\\\\AmishMegh\\\\EdgeDetection\\\\BSR\\\\BSDS500\\\\data\\\\groundTruth\\\\train\\\\12003.mat')\n",
    "mat = mat['groundTruth'][0][0][0][0][1]\n",
    "print(np.unique(mat,return_counts=True))\n",
    "\n",
    "a,b = np.where(mat == 1)\n",
    "print(a,b)"
   ]
  },
  {
   "cell_type": "code",
   "execution_count": 159,
   "metadata": {},
   "outputs": [],
   "source": [
    "data = []\n",
    "labels = []\n",
    "\n",
    "path1 = 'C:\\\\Users\\\\ADMIN\\\\Desktop\\\\AmishMegh\\\\EdgeDetection\\\\BSR\\\\BSDS500\\\\data\\\\groundTruth\\\\train'\n",
    "path2 = 'C:\\\\Users\\\\ADMIN\\\\Desktop\\\\AmishMegh\\\\EdgeDetection\\\\BSR\\\\BSDS500\\\\data\\\\images\\\\train'"
   ]
  },
  {
   "cell_type": "code",
   "execution_count": 160,
   "metadata": {},
   "outputs": [],
   "source": [
    "for aFile in os.listdir(path1):\n",
    "    gTruth = scipy.io.loadmat(path1+\"\\\\\"+aFile)\n",
    "    gTruth = gTruth['groundTruth'][0][0][0][0][1]\n",
    "    \n",
    "    img = cv2.imread(path2+\"\\\\\"+aFile[0:len(aFile)-4]+\".jpg\")    \n",
    "    img = cv2.copyMakeBorder(img,10,10,10,10,cv2.BORDER_CONSTANT,value=[255,255,255])\n",
    "    \n",
    "    if img.shape == (501,341,3):\n",
    "        img = cv2.resize(img,(501,341))\n",
    "        gTruth = gTruth.reshape(321,481)\n",
    "    i_s,j_s = np.where(gTruth == 1)\n",
    "    \n",
    "    for i in range(len(i_s)):\n",
    "        aPatch = getpatch(img,i_s[i]+10,j_s[i]+10)\n",
    "        data.append(aPatch)\n",
    "        labels.append(1)\n",
    "    \n"
   ]
  },
  {
   "cell_type": "code",
   "execution_count": 161,
   "metadata": {},
   "outputs": [],
   "source": [
    "#200*2531\n",
    "x = []\n",
    "for aFile in os.listdir(path1):\n",
    "    gTruth = scipy.io.loadmat(path1+\"\\\\\"+aFile)\n",
    "    gTruth = gTruth['groundTruth'][0][0][0][0][1]\n",
    "    \n",
    "    img = cv2.imread(path2+\"\\\\\"+aFile[0:len(aFile)-4]+\".jpg\")    \n",
    "    img = cv2.copyMakeBorder(img,10,10,10,10,cv2.BORDER_CONSTANT,value=[255,255,255])\n",
    "    \n",
    "    if img.shape == (501,341,3):\n",
    "        img = cv2.resize(img,(501,341))\n",
    "        gTruth = gTruth.reshape(321,481)\n",
    "    i_s,j_s = np.where(gTruth == 0)\n",
    "    \n",
    "    i_s,j_s = shuffle(i_s,j_s)\n",
    "    \n",
    "    for i in range(2531):\n",
    "        aPatch = getpatch(img,i_s[i]+10,j_s[i]+10)\n",
    "        data.append(aPatch)\n",
    "        labels.append(0)"
   ]
  },
  {
   "cell_type": "code",
   "execution_count": 162,
   "metadata": {},
   "outputs": [
    {
     "name": "stdout",
     "output_type": "stream",
     "text": [
      "(1012313,) (1012313, 21, 21, 3)\n"
     ]
    }
   ],
   "source": [
    "labels = np.asarray(labels)\n",
    "data = np.asarray(data)\n",
    "print(labels.shape,data.shape)"
   ]
  },
  {
   "cell_type": "code",
   "execution_count": 164,
   "metadata": {},
   "outputs": [],
   "source": [
    "\n",
    "with h5py.File('inputs.h5','w') as f:\n",
    "    f['data'] = data[0:total,:,:,:]\n",
    "    f['label'] = labels[0:total]"
   ]
  }
 ],
 "metadata": {
  "kernelspec": {
   "display_name": "Python 3",
   "language": "python",
   "name": "python3"
  },
  "language_info": {
   "codemirror_mode": {
    "name": "ipython",
    "version": 3
   },
   "file_extension": ".py",
   "mimetype": "text/x-python",
   "name": "python",
   "nbconvert_exporter": "python",
   "pygments_lexer": "ipython3",
   "version": "3.6.7"
  }
 },
 "nbformat": 4,
 "nbformat_minor": 2
}
