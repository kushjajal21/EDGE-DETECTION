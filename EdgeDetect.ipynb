{
 "cells": [
  {
   "cell_type": "code",
   "execution_count": 1,
   "metadata": {},
   "outputs": [
    {
     "name": "stderr",
     "output_type": "stream",
     "text": [
      "Using TensorFlow backend.\n"
     ]
    }
   ],
   "source": [
    "import numpy as np\n",
    "from copy import copy\n",
    "import cv2\n",
    "\n",
    "from keras.models import load_model"
   ]
  },
  {
   "cell_type": "code",
   "execution_count": 2,
   "metadata": {},
   "outputs": [],
   "source": [
    "def getpatch(x,i,j):\n",
    "    return x[i-10:i+11,j-10:j+11]\n",
    "\n",
    "def getData(x,shape):\n",
    "    \n",
    "    data = []\n",
    "    for i in range(shape[0]):\n",
    "        for j in range(shape[1]):\n",
    "            aPatch = getpatch(x,i+10,j+10)\n",
    "            data.append(aPatch)\n",
    "        \n",
    "    return np.asarray(data)\n",
    "\n",
    "def getEdge(x,shape,model,data):\n",
    "    \n",
    "    prediction = model.predict(data/255)\n",
    "    prediction = thresh(prediction)\n",
    "    prediction = prediction*255\n",
    "    prediction = prediction.reshape(shape[0],shape[1])\n",
    "    \n",
    "    for i in range(shape[0]):\n",
    "        for j in range(shape[1]):\n",
    "            x[i][j][0] = prediction[i][j]\n",
    "            x[i][j][1] = prediction[i][j]\n",
    "            x[i][j][2] = prediction[i][j]\n",
    "    \n",
    "    \n",
    "def thresh(x,thresh=0.75):\n",
    "    \n",
    "    x[x<thresh] = 0\n",
    "    x[x>thresh] = 1\n",
    "    \n",
    "    return x"
   ]
  },
  {
   "cell_type": "code",
   "execution_count": 3,
   "metadata": {},
   "outputs": [],
   "source": [
    "model = load_model(\"models.h5\")  #same folder"
   ]
  },
  {
   "cell_type": "code",
   "execution_count": 4,
   "metadata": {
    "collapsed": true
   },
   "outputs": [
    {
     "name": "stdout",
     "output_type": "stream",
     "text": [
      "_________________________________________________________________\n",
      "Layer (type)                 Output Shape              Param #   \n",
      "=================================================================\n",
      "conv2d_29 (Conv2D)           (None, 17, 17, 6)         456       \n",
      "_________________________________________________________________\n",
      "conv2d_30 (Conv2D)           (None, 13, 13, 12)        1812      \n",
      "_________________________________________________________________\n",
      "conv2d_31 (Conv2D)           (None, 11, 11, 16)        1744      \n",
      "_________________________________________________________________\n",
      "conv2d_32 (Conv2D)           (None, 9, 9, 32)          4640      \n",
      "_________________________________________________________________\n",
      "flatten_8 (Flatten)          (None, 2592)              0         \n",
      "_________________________________________________________________\n",
      "dense_8 (Dense)              (None, 1)                 2593      \n",
      "=================================================================\n",
      "Total params: 11,245\n",
      "Trainable params: 11,245\n",
      "Non-trainable params: 0\n",
      "_________________________________________________________________\n"
     ]
    }
   ],
   "source": [
    "model.summary()"
   ]
  },
  {
   "cell_type": "code",
   "execution_count": null,
   "metadata": {},
   "outputs": [],
   "source": [
    "im = cv2.imread('C:/Users/ADMIN/Pictures/Camera Roll/WIN_20190308_16_45_31_Pro.jpg') #image path\n",
    "im = cv2.resize(im,(int(im.shape[1]/2.5),int(im.shape[0]/2.5)))\n",
    "new_im = copy(im)\n",
    "shape = im.shape\n",
    "im_bor = cv2.copyMakeBorder(im,10,10,10,10,cv2.BORDER_CONSTANT,value=[255,255,255])"
   ]
  },
  {
   "cell_type": "code",
   "execution_count": null,
   "metadata": {
    "collapsed": true
   },
   "outputs": [
    {
     "name": "stdout",
     "output_type": "stream",
     "text": [
      "(308, 532, 3)\n"
     ]
    },
    {
     "data": {
      "text/plain": [
       "-1"
      ]
     },
     "execution_count": 6,
     "metadata": {},
     "output_type": "execute_result"
    }
   ],
   "source": [
    "print(im_bor.shape)\n",
    "cv2.imshow('w1',im_bor)\n",
    "cv2.waitKey()"
   ]
  },
  {
   "cell_type": "code",
   "execution_count": null,
   "metadata": {
    "collapsed": true
   },
   "outputs": [
    {
     "name": "stdout",
     "output_type": "stream",
     "text": [
      "(147456, 21, 21, 3)\n"
     ]
    }
   ],
   "source": [
    "data = getData(im_bor,shape)\n",
    "print(data.shape)"
   ]
  },
  {
   "cell_type": "code",
   "execution_count": null,
   "metadata": {},
   "outputs": [],
   "source": [
    "getEdge(new_im,shape,model,data)\n",
    "cv2.imshow('w1',im)\n",
    "cv2.imshow('w2',new_im)\n",
    "cv2.waitKey() "
   ]
  },
  {
   "cell_type": "code",
   "execution_count": null,
   "metadata": {},
   "outputs": [],
   "source": []
  }
 ],
 "metadata": {
  "kernelspec": {
   "display_name": "Python 3",
   "language": "python",
   "name": "python3"
  },
  "language_info": {
   "codemirror_mode": {
    "name": "ipython",
    "version": 3
   },
   "file_extension": ".py",
   "mimetype": "text/x-python",
   "name": "python",
   "nbconvert_exporter": "python",
   "pygments_lexer": "ipython3",
   "version": "3.6.7"
  }
 },
 "nbformat": 4,
 "nbformat_minor": 2
}
